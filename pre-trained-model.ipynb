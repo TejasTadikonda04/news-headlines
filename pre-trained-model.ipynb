{
 "cells": [
  {
   "cell_type": "code",
   "execution_count": 30,
   "metadata": {},
   "outputs": [],
   "source": [
    "# import\n",
    "from textblob import TextBlob\n",
    "import csv\n",
    "import pandas as pd\n",
    "\n",
    "# initialize arrays\n",
    "headline_dates = []\n",
    "headline_polarity = []\n",
    "\n",
    "# reads headlines from csv file \n",
    "with open(\"abcnews-date-text.csv\", 'r') as file:\n",
    "    csvreader = csv.reader(file)\n",
    "\n",
    "    # reads headline and determines polarity \n",
    "    for row in csvreader:\n",
    "        # append date to headline_dates\n",
    "        headline_dates.append(row[0])\n",
    "\n",
    "        # append polarity value to headline_dates\n",
    "        current_headline = TextBlob(row[1])\n",
    "        headline_polarity.append(current_headline.sentiment.polarity)\n",
    "\n",
    "# creates a dataframe using pandas\n",
    "data = {'dates': headline_dates, 'polarity': headline_polarity}\n",
    "df = pd.DataFrame(data=data)\n",
    "\n",
    "# converts dataframe to csv file\n",
    "df.to_csv('pre_trained_polarity.csv')"
   ]
  }
 ],
 "metadata": {
  "kernelspec": {
   "display_name": "Python 3",
   "language": "python",
   "name": "python3"
  },
  "language_info": {
   "codemirror_mode": {
    "name": "ipython",
    "version": 3
   },
   "file_extension": ".py",
   "mimetype": "text/x-python",
   "name": "python",
   "nbconvert_exporter": "python",
   "pygments_lexer": "ipython3",
   "version": "3.11.4"
  },
  "orig_nbformat": 4
 },
 "nbformat": 4,
 "nbformat_minor": 2
}
