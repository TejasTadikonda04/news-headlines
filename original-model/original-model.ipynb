{
 "cells": [
  {
   "cell_type": "code",
   "execution_count": 14,
   "metadata": {},
   "outputs": [],
   "source": [
    "import pandas as pd\n",
    "from sklearn.model_selection import train_test_split\n",
    "from sklearn.feature_extraction.text import TfidfVectorizer\n",
    "from sklearn.svm import SVC\n",
    "from sklearn.metrics import classification_report, accuracy_score\n",
    "import nltk\n",
    "from nltk.corpus import stopwords\n",
    "from nltk.tokenize import word_tokenize\n",
    "import joblib"
   ]
  },
  {
   "cell_type": "code",
   "execution_count": 15,
   "metadata": {},
   "outputs": [],
   "source": [
    "# Loading the dataframe\n",
    "df = pd.read_csv('training.1600000.processed.noemoticon.csv', encoding='latin-1', header=None, names=['target', 'id', 'date', 'flag', 'user', 'text'])"
   ]
  },
  {
   "cell_type": "code",
   "execution_count": 16,
   "metadata": {},
   "outputs": [],
   "source": [
    "# Map target values to sentiment labels (-1, 0, 1)\n",
    "df['sentiment'] = df['target'].apply(lambda x: -1 if x == 0 else (1 if x == 4 else 0))\n",
    "\n",
    "# Randomly discard 99% of the dataset\n",
    "df = df.sample(frac=0.01, random_state=42)\n",
    "\n",
    "# Split dataset into training and testing sets\n",
    "train_df, test_df = train_test_split(df, test_size=0.2, random_state=42)\n",
    "\n",
    "# Remove unnecessary columns\n",
    "train_texts = train_df['text'].values\n",
    "train_sentiments = train_df['sentiment'].values\n",
    "test_texts = test_df['text'].values\n",
    "test_sentiments = test_df['sentiment'].values"
   ]
  },
  {
   "cell_type": "code",
   "execution_count": 17,
   "metadata": {},
   "outputs": [
    {
     "name": "stderr",
     "output_type": "stream",
     "text": [
      "[nltk_data] Downloading package stopwords to\n",
      "[nltk_data]     C:\\Users\\Tejas\\AppData\\Roaming\\nltk_data...\n",
      "[nltk_data]   Package stopwords is already up-to-date!\n",
      "[nltk_data] Downloading package punkt to\n",
      "[nltk_data]     C:\\Users\\Tejas\\AppData\\Roaming\\nltk_data...\n",
      "[nltk_data]   Package punkt is already up-to-date!\n"
     ]
    }
   ],
   "source": [
    "# Initialize NLTK stopwords\n",
    "nltk.download('stopwords')\n",
    "nltk.download('punkt')\n",
    "stop_words = set(stopwords.words('english'))\n",
    "\n",
    "def preprocess_text(text):\n",
    "    words = word_tokenize(text)\n",
    "    words = [word for word in words if word.lower() not in stop_words]\n",
    "    return ' '.join(words)\n",
    "\n",
    "train_texts = [preprocess_text(text) for text in train_texts]\n",
    "test_texts = [preprocess_text(text) for text in test_texts]\n",
    "\n",
    "# Convert text data to numerical features using TF-IDF\n",
    "vectorizer = TfidfVectorizer(max_features=5000)\n",
    "train_features = vectorizer.fit_transform(train_texts)\n",
    "test_features = vectorizer.transform(test_texts)\n"
   ]
  },
  {
   "cell_type": "code",
   "execution_count": 18,
   "metadata": {},
   "outputs": [
    {
     "name": "stdout",
     "output_type": "stream",
     "text": [
      "Accuracy: 0.72\n",
      "Classification Report:\n",
      "              precision    recall  f1-score   support\n",
      "\n",
      "          -1       0.73      0.69      0.71      1587\n",
      "           1       0.71      0.75      0.73      1613\n",
      "\n",
      "    accuracy                           0.72      3200\n",
      "   macro avg       0.72      0.72      0.72      3200\n",
      "weighted avg       0.72      0.72      0.72      3200\n",
      "\n"
     ]
    }
   ],
   "source": [
    "# Train a Support Vector Machine (SVM) classifier\n",
    "svm_model = SVC(kernel='linear', random_state=42)\n",
    "svm_model.fit(train_features, train_sentiments)\n",
    "\n",
    "# Predict sentiment on the test set\n",
    "predictions = svm_model.predict(test_features)\n",
    "\n",
    "# Evaluate the model\n",
    "accuracy = accuracy_score(test_sentiments, predictions)\n",
    "classification_rep = classification_report(test_sentiments, predictions)\n",
    "\n",
    "print(f'Accuracy: {accuracy:.2f}')\n",
    "print(f'Classification Report:\\n{classification_rep}')"
   ]
  },
  {
   "cell_type": "code",
   "execution_count": 19,
   "metadata": {},
   "outputs": [
    {
     "data": {
      "text/plain": [
       "['./tfidf_vectorizer.pkl']"
      ]
     },
     "execution_count": 19,
     "metadata": {},
     "output_type": "execute_result"
    }
   ],
   "source": [
    "# Save the trained SVM model to a specific path\n",
    "svm_model_path = \"./svm_model.pkl\"\n",
    "joblib.dump(svm_model, svm_model_path)\n",
    "\n",
    "# Save the TF-IDF vectorizer to a specific path\n",
    "vectorizer_path = \"./tfidf_vectorizer.pkl\"\n",
    "joblib.dump(vectorizer, vectorizer_path)\n"
   ]
  },
  {
   "cell_type": "code",
   "execution_count": 20,
   "metadata": {},
   "outputs": [],
   "source": [
    "# Load the trained SVM model\n",
    "svm_model = joblib.load('svm_model.pkl')\n",
    "\n",
    "# Load the TF-IDF vectorizer\n",
    "vectorizer = joblib.load('tfidf_vectorizer.pkl')\n",
    "\n",
    "# Load your dataset (replace with your actual data loading code)\n",
    "csv_path = './abcnews-date-text.csv'\n",
    "news_headlines = load_news_headlines(csv_path)\n",
    "\n",
    "# Preprocess the news headlines\n",
    "preprocessed_headlines_full = [preprocess_text(headline) for headline in news_headlines]\n",
    "preprocessed_headlines = preprocessed_headlines_full[0:1000]\n",
    "\n",
    "# Convert preprocessed headlines to TF-IDF features\n",
    "headline_features = vectorizer.transform(preprocessed_headlines)\n",
    "\n",
    "# Predict the sentiment polarity using the SVM model\n",
    "headline_polarities = svm_model.predict(headline_features)\n",
    "\n",
    "# Map sentiment polarity to a scale of -1 to 1 (assuming -1 is negative, 1 is positive)\n",
    "polarities_scaled = (headline_polarities + 1) / 2"
   ]
  }
 ],
 "metadata": {
  "kernelspec": {
   "display_name": "Python 3",
   "language": "python",
   "name": "python3"
  },
  "language_info": {
   "codemirror_mode": {
    "name": "ipython",
    "version": 3
   },
   "file_extension": ".py",
   "mimetype": "text/x-python",
   "name": "python",
   "nbconvert_exporter": "python",
   "pygments_lexer": "ipython3",
   "version": "3.11.4"
  },
  "orig_nbformat": 4
 },
 "nbformat": 4,
 "nbformat_minor": 2
}
