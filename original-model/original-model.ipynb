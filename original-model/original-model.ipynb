{
 "cells": [
  {
   "cell_type": "code",
   "execution_count": 1,
   "metadata": {},
   "outputs": [],
   "source": [
    "import pandas as pd\n",
    "from sklearn.model_selection import train_test_split\n",
    "from sklearn.feature_extraction.text import TfidfVectorizer\n",
    "from sklearn.svm import SVC\n",
    "from sklearn.metrics import classification_report, accuracy_score\n",
    "import nltk\n",
    "from nltk.corpus import stopwords\n",
    "from nltk.tokenize import word_tokenize\n",
    "import joblib\n",
    "import csv\n",
    "import matplotlib.pyplot as plt"
   ]
  },
  {
   "cell_type": "code",
   "execution_count": 2,
   "metadata": {},
   "outputs": [],
   "source": [
    "# Loading the dataframe\n",
    "df = pd.read_csv('training.1600000.processed.noemoticon.csv', encoding='latin-1', header=None, names=['target', 'id', 'date', 'flag', 'user', 'text'])"
   ]
  },
  {
   "cell_type": "code",
   "execution_count": 3,
   "metadata": {},
   "outputs": [],
   "source": [
    "# Map target values to sentiment labels (-1, 0, 1)\n",
    "df['sentiment'] = df['target'].apply(lambda x: -1 if x == 0 else (1 if x == 4 else 0))\n",
    "\n",
    "# Randomly discard 90% of the dataset\n",
    "df = df.sample(frac=0.10, random_state=42)\n",
    "\n",
    "# Split dataset into training and testing sets\n",
    "train_df, test_df = train_test_split(df, test_size=0.2, random_state=42)\n",
    "\n",
    "# Remove unnecessary columns\n",
    "train_texts = train_df['text'].values\n",
    "train_sentiments = train_df['sentiment'].values\n",
    "test_texts = test_df['text'].values\n",
    "test_sentiments = test_df['sentiment'].values"
   ]
  },
  {
   "cell_type": "code",
   "execution_count": 4,
   "metadata": {},
   "outputs": [
    {
     "name": "stderr",
     "output_type": "stream",
     "text": [
      "[nltk_data] Downloading package stopwords to\n",
      "[nltk_data]     C:\\Users\\Tejas\\AppData\\Roaming\\nltk_data...\n",
      "[nltk_data]   Package stopwords is already up-to-date!\n",
      "[nltk_data] Downloading package punkt to\n",
      "[nltk_data]     C:\\Users\\Tejas\\AppData\\Roaming\\nltk_data...\n",
      "[nltk_data]   Package punkt is already up-to-date!\n"
     ]
    }
   ],
   "source": [
    "# Initialize NLTK stopwords\n",
    "nltk.download('stopwords')\n",
    "nltk.download('punkt')\n",
    "stop_words = set(stopwords.words('english'))\n",
    "\n",
    "def preprocess_text(text):\n",
    "    words = word_tokenize(text)\n",
    "    words = [word for word in words if word.lower() not in stop_words]\n",
    "    return ' '.join(words)\n",
    "\n",
    "train_texts = [preprocess_text(text) for text in train_texts]\n",
    "test_texts = [preprocess_text(text) for text in test_texts]\n",
    "\n",
    "# Convert text data to numerical features using TF-IDF\n",
    "vectorizer = TfidfVectorizer(max_features=5000)\n",
    "train_features = vectorizer.fit_transform(train_texts)\n",
    "test_features = vectorizer.transform(test_texts)\n"
   ]
  },
  {
   "cell_type": "code",
   "execution_count": 5,
   "metadata": {},
   "outputs": [
    {
     "name": "stdout",
     "output_type": "stream",
     "text": [
      "Accuracy: 0.77\n",
      "Classification Report:\n",
      "              precision    recall  f1-score   support\n",
      "\n",
      "          -1       0.78      0.74      0.76     15878\n",
      "           1       0.75      0.79      0.77     16122\n",
      "\n",
      "    accuracy                           0.77     32000\n",
      "   macro avg       0.77      0.77      0.77     32000\n",
      "weighted avg       0.77      0.77      0.77     32000\n",
      "\n"
     ]
    }
   ],
   "source": [
    "# Train a Support Vector Machine (SVM) classifier\n",
    "svm_model = SVC(kernel='linear', random_state=42)\n",
    "svm_model.fit(train_features, train_sentiments)\n",
    "\n",
    "# Predict sentiment on the test set\n",
    "predictions = svm_model.predict(test_features)\n",
    "\n",
    "# Evaluate the model\n",
    "accuracy = accuracy_score(test_sentiments, predictions)\n",
    "classification_rep = classification_report(test_sentiments, predictions)\n",
    "\n",
    "print(f'Accuracy: {accuracy:.2f}')\n",
    "print(f'Classification Report:\\n{classification_rep}')"
   ]
  },
  {
   "cell_type": "code",
   "execution_count": 6,
   "metadata": {},
   "outputs": [
    {
     "data": {
      "text/plain": [
       "['./tfidf_vectorizer.pkl']"
      ]
     },
     "execution_count": 6,
     "metadata": {},
     "output_type": "execute_result"
    }
   ],
   "source": [
    "# Save the trained SVM model to a specific path\n",
    "svm_model_path = \"./svm_model.pkl\"\n",
    "joblib.dump(svm_model, svm_model_path)\n",
    "\n",
    "# Save the TF-IDF vectorizer to a specific path\n",
    "vectorizer_path = \"./tfidf_vectorizer.pkl\"\n",
    "joblib.dump(vectorizer, vectorizer_path)\n"
   ]
  },
  {
   "cell_type": "code",
   "execution_count": 7,
   "metadata": {},
   "outputs": [],
   "source": [
    "# Function to load the news headlines\n",
    "def load_news_headlines(csv_path):\n",
    "    # Load the CSV file into a DataFrame\n",
    "    df = pd.read_csv(csv_path)\n",
    "\n",
    "    headlines = df['headline_text'].tolist()\n",
    "\n",
    "    return headlines"
   ]
  },
  {
   "cell_type": "code",
   "execution_count": 8,
   "metadata": {},
   "outputs": [],
   "source": [
    "# Load the trained SVM model\n",
    "svm_model = joblib.load('svm_model.pkl')\n",
    "\n",
    "# Load the TF-IDF vectorizer\n",
    "vectorizer = joblib.load('tfidf_vectorizer.pkl')\n",
    "\n",
    "# Load dataset\n",
    "csv_path = './abcnews-date-text.csv'\n",
    "news_headlines = load_news_headlines(csv_path)\n",
    "\n",
    "# Preprocess the news headlines\n",
    "preprocessed_headlines = [preprocess_text(headline) for headline in news_headlines]\n",
    "\n",
    "# Convert preprocessed headlines to TF-IDF features\n",
    "headline_features = vectorizer.transform(preprocessed_headlines)\n",
    "\n",
    "# Predict the sentiment polarity using the SVM model\n",
    "headline_polarity = svm_model.predict(headline_features)"
   ]
  },
  {
   "cell_type": "code",
   "execution_count": 9,
   "metadata": {},
   "outputs": [],
   "source": [
    "# Populate headline_dates list\n",
    "headline_dates = []\n",
    "\n",
    "# Convert headline from numpy array to list\n",
    "headline_polarity = list(headline_polarity)\n",
    "\n",
    "# Reads headlines from csv file \n",
    "with open(\"abcnews-date-text.csv\", 'r') as file:\n",
    "    csvreader = csv.reader(file)\n",
    "\n",
    "    # Reads headline and determines polarity \n",
    "    for row in csvreader:\n",
    "        # Append date to headline_dates\n",
    "        headline_dates.append(row[0])"
   ]
  },
  {
   "cell_type": "code",
   "execution_count": 10,
   "metadata": {},
   "outputs": [],
   "source": [
    "# Removes first element of each list\n",
    "headline_dates.pop(0)\n",
    "\n",
    "# Creates a dataframe using pandas\n",
    "data = {'dates': headline_dates, 'polarity': headline_polarity}\n",
    "df = pd.DataFrame(data=data)\n",
    "\n",
    "# Converts dataframe to csv file\n",
    "df.to_csv('original_polarity.csv')"
   ]
  },
  {
   "cell_type": "code",
   "execution_count": 11,
   "metadata": {},
   "outputs": [],
   "source": [
    "# Create empty lists to store data for each year\n",
    "dates_by_year = [[] for i in range(2003, 2022)]\n",
    "polarity_by_year = [[] for i in range(2003, 2022)]\n",
    "\n",
    "# Loop through the lists and group them by year\n",
    "for date, polarity in zip(headline_dates, headline_polarity):\n",
    "    year = int(date[:4])  # Extract the year from the date string\n",
    "    index = year - 2003  # Calculate the index to store the data in the correct sublist\n",
    "    dates_by_year[index].append(date)\n",
    "    polarity_by_year[index].append(polarity)"
   ]
  },
  {
   "cell_type": "code",
   "execution_count": 12,
   "metadata": {},
   "outputs": [],
   "source": [
    "# Creates a dataframe using pandas\n",
    "data = {'years': dates_by_year, 'polarity': polarity_by_year}\n",
    "df = pd.DataFrame(data=data)\n",
    "\n",
    "# Converts dataframe to csv file\n",
    "df.to_csv('original_polarity_by_year.csv')"
   ]
  },
  {
   "cell_type": "code",
   "execution_count": 13,
   "metadata": {},
   "outputs": [],
   "source": [
    "# Initialize year and avg polarity lists\n",
    "years = [\"2003\", \"2004\", \"2005\", \"2006\", \"2007\", \"2008\", \"2009\", \"2010\", \"2011\", \"2012\", \"2013\", \"2014\", \"2015\", \"2016\", \"2017\", \"2018\", \"2019\", \"2020\", \"2021\"]\n",
    "average_polarity = []\n",
    "\n",
    "# Python function to get average of a list\n",
    "def averageList(list):\n",
    "    return sum(list) / len(list)\n",
    "\n",
    "# Finds the average of each year and appends to array\n",
    "for i in range(len(polarity_by_year)):\n",
    "    average_polarity.append(averageList(polarity_by_year[i]))"
   ]
  },
  {
   "cell_type": "code",
   "execution_count": 14,
   "metadata": {},
   "outputs": [
    {
     "data": {
      "image/png": "[encoded data removed]",
      "text/plain": [
       "<Figure size 640x480 with 1 Axes>"
      ]
     },
     "metadata": {},
     "output_type": "display_data"
    }
   ],
   "source": [
    "# Plotting the points \n",
    "plt.plot(years, average_polarity)\n",
    "  \n",
    "# Naming the x axis\n",
    "plt.xlabel('years')\n",
    "\n",
    "# Naming the y axis\n",
    "plt.ylabel('average polarity')\n",
    "  \n",
    "# Giving a title to my graph\n",
    "plt.title('Polarity of newspaper headlines over time')\n",
    "\n",
    "# Rotate x axis labels\n",
    "plt.xticks(rotation = 45)\n",
    "  \n",
    "# Function to show the plot\n",
    "plt.show()"
   ]
  }
 ],
 "metadata": {
  "kernelspec": {
   "display_name": "Python 3",
   "language": "python",
   "name": "python3"
  },
  "language_info": {
   "codemirror_mode": {
    "name": "ipython",
    "version": 3
   },
   "file_extension": ".py",
   "mimetype": "text/x-python",
   "name": "python",
   "nbconvert_exporter": "python",
   "pygments_lexer": "ipython3",
   "version": "3.11.4"
  },
  "orig_nbformat": 4
 },
 "nbformat": 4,
 "nbformat_minor": 2
}
