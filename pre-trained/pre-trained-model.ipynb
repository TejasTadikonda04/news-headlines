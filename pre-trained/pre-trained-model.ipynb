{
 "cells": [
  {
   "cell_type": "code",
   "execution_count": 3,
   "metadata": {},
   "outputs": [],
   "source": [
    "# Import\n",
    "from textblob import TextBlob\n",
    "import csv\n",
    "import pandas as pd\n",
    "import matplotlib.pyplot as plt"
   ]
  },
  {
   "cell_type": "code",
   "execution_count": 4,
   "metadata": {},
   "outputs": [],
   "source": [
    "# Initialize arrays\n",
    "headline_dates = []\n",
    "headline_polarity = []\n",
    "\n",
    "# Reads headlines from csv file \n",
    "with open(\"abcnews-date-text.csv\", 'r') as file:\n",
    "    csvreader = csv.reader(file)\n",
    "\n",
    "    # Reads headline and determines polarity \n",
    "    for row in csvreader:\n",
    "        # Append date to headline_dates\n",
    "        headline_dates.append(row[0])\n",
    "\n",
    "        # Append polarity value to headline_dates\n",
    "        current_headline = TextBlob(row[1])\n",
    "        headline_polarity.append(current_headline.sentiment.polarity)"
   ]
  },
  {
   "cell_type": "code",
   "execution_count": 5,
   "metadata": {},
   "outputs": [],
   "source": [
    "# Removes first element of each list\n",
    "headline_dates.pop(0)\n",
    "headline_polarity.pop(0)\n",
    "\n",
    "# Creates a dataframe using pandas\n",
    "data = {'dates': headline_dates, 'polarity': headline_polarity}\n",
    "df = pd.DataFrame(data=data)\n",
    "\n",
    "# Converts dataframe to csv file\n",
    "df.to_csv('pre_trained_polarity.csv')"
   ]
  },
  {
   "cell_type": "code",
   "execution_count": 9,
   "metadata": {},
   "outputs": [],
   "source": [
    "# Create empty lists to store data for each year\n",
    "dates_by_year = [[] for i in range(2003, 2022)]\n",
    "polarity_by_year = [[] for i in range(2003, 2022)]\n",
    "\n",
    "# Loop through the lists and group them by year\n",
    "for date, polarity in zip(headline_dates, headline_polarity):\n",
    "    year = int(date[:4])  # Extract the year from the date string\n",
    "    index = year - 2003  # Calculate the index to store the data in the correct sublist\n",
    "    dates_by_year[index].append(date)\n",
    "    polarity_by_year[index].append(polarity)"
   ]
  },
  {
   "cell_type": "code",
   "execution_count": 7,
   "metadata": {},
   "outputs": [],
   "source": [
    "# Creates a dataframe using pandas\n",
    "data = {'years': dates_by_year, 'polarity': polarity_by_year}\n",
    "df = pd.DataFrame(data=data)\n",
    "\n",
    "# Converts dataframe to csv file\n",
    "df.to_csv('polarity_by_year.csv')"
   ]
  }
 ],
 "metadata": {
  "kernelspec": {
   "display_name": "Python 3",
   "language": "python",
   "name": "python3"
  },
  "language_info": {
   "codemirror_mode": {
    "name": "ipython",
    "version": 3
   },
   "file_extension": ".py",
   "mimetype": "text/x-python",
   "name": "python",
   "nbconvert_exporter": "python",
   "pygments_lexer": "ipython3",
   "version": "3.11.4"
  },
  "orig_nbformat": 4
 },
 "nbformat": 4,
 "nbformat_minor": 2
}
