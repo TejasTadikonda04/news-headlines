{
 "cells": [
  {
   "cell_type": "code",
   "execution_count": 1,
   "metadata": {},
   "outputs": [],
   "source": [
    "# Import\n",
    "from textblob import TextBlob\n",
    "import csv\n",
    "import pandas as pd\n",
    "import matplotlib.pyplot as plt"
   ]
  },
  {
   "cell_type": "code",
   "execution_count": 2,
   "metadata": {},
   "outputs": [],
   "source": [
    "# Initialize arrays\n",
    "headline_dates = []\n",
    "headline_polarity = []\n",
    "\n",
    "# Reads headlines from csv file \n",
    "with open(\"abcnews-date-text.csv\", 'r') as file:\n",
    "    csvreader = csv.reader(file)\n",
    "\n",
    "    # Reads headline and determines polarity \n",
    "    for row in csvreader:\n",
    "        # Append date to headline_dates\n",
    "        headline_dates.append(row[0])\n",
    "\n",
    "        # Append polarity value to headline_dates\n",
    "        current_headline = TextBlob(row[1])\n",
    "        headline_polarity.append(current_headline.sentiment.polarity)"
   ]
  },
  {
   "cell_type": "code",
   "execution_count": 3,
   "metadata": {},
   "outputs": [],
   "source": [
    "# Removes first element of each list\n",
    "headline_dates.pop(0)\n",
    "headline_polarity.pop(0)\n",
    "\n",
    "# Creates a dataframe using pandas\n",
    "data = {'dates': headline_dates, 'polarity': headline_polarity}\n",
    "df = pd.DataFrame(data=data)\n",
    "\n",
    "# Converts dataframe to csv file\n",
    "df.to_csv('pre_trained_polarity.csv')"
   ]
  },
  {
   "cell_type": "code",
   "execution_count": 4,
   "metadata": {},
   "outputs": [],
   "source": [
    "# Create empty lists to store data for each year\n",
    "dates_by_year = [[] for i in range(2003, 2022)]\n",
    "polarity_by_year = [[] for i in range(2003, 2022)]\n",
    "\n",
    "# Loop through the lists and group them by year\n",
    "for date, polarity in zip(headline_dates, headline_polarity):\n",
    "    year = int(date[:4])  # Extract the year from the date string\n",
    "    index = year - 2003  # Calculate the index to store the data in the correct sublist\n",
    "    dates_by_year[index].append(date)\n",
    "    polarity_by_year[index].append(polarity)"
   ]
  },
  {
   "cell_type": "code",
   "execution_count": 5,
   "metadata": {},
   "outputs": [],
   "source": [
    "# Creates a dataframe using pandas\n",
    "data = {'years': dates_by_year, 'polarity': polarity_by_year}\n",
    "df = pd.DataFrame(data=data)\n",
    "\n",
    "# Converts dataframe to csv file\n",
    "df.to_csv('polarity_by_year.csv')"
   ]
  },
  {
   "cell_type": "code",
   "execution_count": 9,
   "metadata": {},
   "outputs": [
    {
     "name": "stdout",
     "output_type": "stream",
     "text": [
      "[0.022345680034206363, 0.020216322141038866, 0.01563416371481208, 0.015102970733874255, 0.013210437110062572, 0.013052871359930043, 0.010765743115946745, 0.012565966041120988, 0.012708409176498809, 0.01658355367369151, 0.02022839846395405, 0.022970248074926633, 0.02393347838213166, 0.02120516604950961, 0.01902716023486699, 0.015892105483073276, 0.014480727938412846, 0.01846425267584525, 0.02571876591183717]\n"
     ]
    }
   ],
   "source": [
    "# Initialize array\n",
    "years = [\"2003\", \"2004\", \"2005\", \"2006\", \"2007\", \"2008\", \"2009\", \"2010\", \"2011\", \"2012\", \"2013\", \"2014\", \"2015\", \"2016\", \"2017\", \"2018\", \"2019\", \"2020\", \"2021\"]\n",
    "average_polarity = []\n",
    "\n",
    "# Python function to get average of a list\n",
    "def averageList(list):\n",
    "    return sum(list) / len(list)\n",
    "\n",
    "# Finds the average of each year and appends to array\n",
    "for i in range(len(polarity_by_year)):\n",
    "    average_polarity.append(averageList(polarity_by_year[i]))"
   ]
  }
 ],
 "metadata": {
  "kernelspec": {
   "display_name": "Python 3",
   "language": "python",
   "name": "python3"
  },
  "language_info": {
   "codemirror_mode": {
    "name": "ipython",
    "version": 3
   },
   "file_extension": ".py",
   "mimetype": "text/x-python",
   "name": "python",
   "nbconvert_exporter": "python",
   "pygments_lexer": "ipython3",
   "version": "3.11.4"
  },
  "orig_nbformat": 4
 },
 "nbformat": 4,
 "nbformat_minor": 2
}
